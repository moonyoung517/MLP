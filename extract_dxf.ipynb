{
 "cells": [
  {
   "cell_type": "code",
   "execution_count": null,
   "id": "f5dd2b1d",
   "metadata": {},
   "outputs": [],
   "source": [
    "from extract_dxf_fn import os, glob, load_step_file, extract_all_edges, save_edges_as_dxf_all_types\n",
    "import extract_dxf_fn\n",
    "\n",
    "# 1) 입력 폴더 지정\n",
    "input_folder = \"data\"  # ← .stp 파일이 있는 폴더 경로\n",
    "\n",
    "# 2) 처리할 STEP 파일 목록 수집\n",
    "patterns = [\"*.stp\", \"*.step\"]  # 필요시 확장자 추가\n",
    "step_files = []\n",
    "for pat in patterns:\n",
    "    step_files.extend(glob.glob(os.path.join(input_folder, pat)))\n",
    "\n",
    "# 3) 뷰 정의\n",
    "view_directions = {\n",
    "    \"front\":  extract_dxf_fn.gp_Dir(0,  1, 0),\n",
    "    \"back\":   extract_dxf_fn.gp_Dir(0, -1, 0),\n",
    "    \"left\":   extract_dxf_fn.gp_Dir(-1, 0, 0),\n",
    "    \"right\":  extract_dxf_fn.gp_Dir(1,  0, 0),\n",
    "    \"top\":    extract_dxf_fn.gp_Dir(0,  0, 1),\n",
    "    \"bottom\": extract_dxf_fn.gp_Dir(0,  0,-1),\n",
    "}\n",
    "\n",
    "# 4) 파일별 반복 처리\n",
    "for step_path in step_files:\n",
    "    base = os.path.splitext(os.path.basename(step_path))[0]\n",
    "    try:\n",
    "        shape = load_step_file(step_path)\n",
    "    except RuntimeError as e:\n",
    "        print(e)\n",
    "        continue\n",
    "\n",
    "    for name, direction in view_directions.items():\n",
    "        edges = extract_all_edges(shape, direction)\n",
    "        dxf_name = f\"{base}_{name}_view_all_edges.dxf\"\n",
    "        dxf_path = os.path.join(input_folder, dxf_name)\n",
    "        save_edges_as_dxf_all_types(edges, dxf_path)"
   ]
  },
  {
   "cell_type": "code",
   "execution_count": null,
   "id": "baec8915",
   "metadata": {},
   "outputs": [],
   "source": []
  },
  {
   "cell_type": "code",
   "execution_count": null,
   "id": "06cefebe",
   "metadata": {},
   "outputs": [],
   "source": []
  }
 ],
 "metadata": {
  "kernelspec": {
   "display_name": "occwl_env",
   "language": "python",
   "name": "python3"
  },
  "language_info": {
   "codemirror_mode": {
    "name": "ipython",
    "version": 3
   },
   "file_extension": ".py",
   "mimetype": "text/x-python",
   "name": "python",
   "nbconvert_exporter": "python",
   "pygments_lexer": "ipython3",
   "version": "3.7.12"
  }
 },
 "nbformat": 4,
 "nbformat_minor": 5
}
