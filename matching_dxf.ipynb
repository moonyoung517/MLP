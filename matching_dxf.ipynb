{
 "cells": [
  {
   "cell_type": "code",
   "execution_count": null,
   "id": "f9f12e30",
   "metadata": {},
   "outputs": [],
   "source": [
    "from  matching_dxf_fn import main\n",
    "import matching_dxf_fn\n",
    "\n",
    "import pandas as pd\n",
    "\n",
    "df_data = []\n",
    "\n",
    "input_folder = \"data\"  # .dxf 파일이 있는 폴더 경로\n",
    "\n",
    "# 1) .dxf 파일 목록 수집\n",
    "patterns = [\"*.dxf\"]\n",
    "dxf_files = []\n",
    "for pat in patterns:\n",
    "    dxf_files.extend(matching_dxf_fn.glob.glob(matching_dxf_fn.os.path.join(input_folder, pat)))\n",
    "\n",
    "# 2) 'all_edges'가 파일명에 포함되지 않은 것만 필터링\n",
    "dxf_files = [f for f in dxf_files if 'all_edges' not in matching_dxf_fn.os.path.basename(f)]\n",
    "#dxf_files = dxf_files[:1]\n",
    "\n",
    "\n",
    "for dxf_path in dxf_files:\n",
    "    matching_data_all = main(dxf_path)\n",
    "\n",
    "    for matching_data in matching_data_all:\n",
    "        data_insert = {\n",
    "            'path' : dxf_path.replace('.dxf',''),\n",
    "            'view' : matching_data['view'], \n",
    "            'score' : matching_data['score'], \n",
    "            'rmse' : matching_data['rmse']}\n",
    "\n",
    "        print(data_insert)\n",
    "\n",
    "        df_data.append(data_insert)\n",
    "        \n",
    "df = pd.DataFrame(df_data)\n",
    "df.to_excel('step_to_dxf_matching_data_new.xlsx')"
   ]
  }
 ],
 "metadata": {
  "kernelspec": {
   "display_name": "occwl_env",
   "language": "python",
   "name": "python3"
  },
  "language_info": {
   "codemirror_mode": {
    "name": "ipython",
    "version": 3
   },
   "file_extension": ".py",
   "mimetype": "text/x-python",
   "name": "python",
   "nbconvert_exporter": "python",
   "pygments_lexer": "ipython3",
   "version": "3.7.12"
  }
 },
 "nbformat": 4,
 "nbformat_minor": 5
}
